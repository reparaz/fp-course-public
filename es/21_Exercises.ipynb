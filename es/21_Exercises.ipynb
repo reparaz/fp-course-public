{
  "cells": [
    {
      "cell_type": "markdown",
      "metadata": {},
      "source": [
        "## Ejercicios"
      ]
    },
    {
      "cell_type": "markdown",
      "metadata": {},
      "source": [
        "### Calculando $e^x$ \n",
        "\n",
        "Utilice recursión para calcular el valor de $e^x$  usando la serie\n",
        "\n",
        "$$\n",
        "e^x = \\sum_{n=0}^{N-1} \\frac{x^n}{n!}\n",
        "$$\n",
        "\n",
        "hasta un número fijo $N$ de términos. \n",
        "\n",
        "Suponga ahora que se quiere calcular la serie pero en lugar de calcular un número fijo de términos, se desea evaluar la función con un error relativo dado `epsilon`. Modifique\n",
        "el código anterior para obtener esta función. \n",
        "\n",
        "\n",
        "\n",
        "\n"
      ]
    },
    {
      "cell_type": "markdown",
      "metadata": {},
      "source": [
        "### Puntos cardinales\n",
        "\n",
        "Construya un tipo de dato que represente los puntos cardinales principales (N,S,E,O) y los intermedios (NE,NO,SE,SO).\n",
        "Defina una función que permita determinar hacia qué punto cardinal un vehículo se está dirigiendo, dado el rumbo del mismo,\n",
        "definido como un ángulo en el rango  0 y 359 grados.\n"
      ]
    },
    {
      "cell_type": "markdown",
      "metadata": {},
      "source": [
        "### Volviendo a `FizzBuzz` \n",
        "\n",
        "Ahora puede volver al [ejercicio de FizzBuzz](_fsharp/03_Exercises.ipynb) y comenzar\n",
        "a resolverlo en F#. Construir una función que dado un número, imprima Fizz para múltiplos de tres, Buzz para números múltiplos de cinco,\n",
        "y además, si el número es múltiplo de tres y cinco, debe imprimir FizzBuzz.\n"
      ]
    },
    {
      "cell_type": "code",
      "execution_count": 2,
      "metadata": {
        "dotnet_interactive": {
          "language": "fsharp"
        },
        "polyglot_notebook": {
          "kernelName": "fsharp"
        },
        "vscode": {
          "languageId": "polyglot-notebook"
        }
      },
      "outputs": [
        {
          "data": {
            "text/html": [
              "<div class=\"dni-plaintext\"><pre>2</pre></div><style>\r\n",
              ".dni-code-hint {\r\n",
              "    font-style: italic;\r\n",
              "    overflow: hidden;\r\n",
              "    white-space: nowrap;\r\n",
              "}\r\n",
              ".dni-treeview {\r\n",
              "    white-space: nowrap;\r\n",
              "}\r\n",
              ".dni-treeview td {\r\n",
              "    vertical-align: top;\r\n",
              "    text-align: start;\r\n",
              "}\r\n",
              "details.dni-treeview {\r\n",
              "    padding-left: 1em;\r\n",
              "}\r\n",
              "table td {\r\n",
              "    text-align: start;\r\n",
              "}\r\n",
              "table tr { \r\n",
              "    vertical-align: top; \r\n",
              "    margin: 0em 0px;\r\n",
              "}\r\n",
              "table tr td pre \r\n",
              "{ \r\n",
              "    vertical-align: top !important; \r\n",
              "    margin: 0em 0px !important;\r\n",
              "} \r\n",
              "table th {\r\n",
              "    text-align: start;\r\n",
              "}\r\n",
              "</style>"
            ]
          },
          "metadata": {},
          "output_type": "display_data"
        }
      ],
      "source": [
        "let list = [1;2;3]\n",
        "list[1]"
      ]
    },
    {
      "cell_type": "markdown",
      "metadata": {},
      "source": [
        "### Volviendo al truco \n",
        "\n",
        "Retomando el [ejercicio del truco](_fsharp/14_Exercises.md):\n",
        "\n",
        "El _envido_  en el truco requiere en tener dos cartas del mismo palo, de las tres cartas de la mano. \n",
        "Asumiendo que se tienen 2 cartas del mismo palo, se suma su valor + 20 (de ahí la importancia de ligar dos cartas del mismo palo). La puntuación más alta del envido es 33 (7+6+20=33).\n",
        "Las figuras o cartas negras (sota, caballo y rey) valen 0 puntos para el envido. Si se tienen 2 figuras del mismo palo la puntuación de envido es 20.\n",
        "Recuerde que en el truco, los ochos y nueves no forman parte del mazo.\n",
        "\n",
        "- Escriba una función que dadas tres cartas, determine si es posible formar un envido.\n",
        "- Escriba una función que dadas dos cartas, retorne el valor del envido, o algun tipo de error si no tiene envido con dichas cartas.\n"
      ]
    }
  ],
  "metadata": {
    "language_info": {
      "name": "python"
    },
    "orig_nbformat": 4
  },
  "nbformat": 4,
  "nbformat_minor": 2
}
