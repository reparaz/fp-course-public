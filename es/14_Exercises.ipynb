{
  "cells": [
    {
      "cell_type": "markdown",
      "metadata": {},
      "source": [
        "## Ejercicios"
      ]
    },
    {
      "cell_type": "markdown",
      "metadata": {},
      "source": [
        "### El video de la semana\n",
        "\n",
        "[_The Art of Code_, Dylan Beattie](https://youtu.be/6avJHaC3C2U)\n"
      ]
    },
    {
      "cell_type": "markdown",
      "metadata": {},
      "source": [
        "### Lugares en la máquina expendedora\n",
        "\n",
        "El vendedor de la máquina expendedora de alimentos proporciona a la máquina diferentes lugares en cada estante para acomodar productos que tienen diferentes tamaños. El vendedor ofrece tres tamaños diferentes, simple, doble y triple.\n",
        "\n",
        "- Modelar los tamaños de los lugares en un tipo `SlotSize`.\n",
        "- Extienda el modelo `FoodMachineItem` para agregar el tamaño del producto medido por el tamaño de la lugar que ocupa.\n"
      ]
    },
    {
      "cell_type": "code",
      "execution_count": 4,
      "metadata": {
        "dotnet_interactive": {
          "language": "fsharp"
        },
        "polyglot_notebook": {
          "kernelName": "fsharp"
        },
        "vscode": {
          "languageId": "polyglot-notebook"
        }
      },
      "outputs": [],
      "source": [
        "type SlotSize = \n",
        "    | Simple\n",
        "    | Doble\n",
        "    | Triple"
      ]
    },
    {
      "cell_type": "code",
      "execution_count": 2,
      "metadata": {
        "dotnet_interactive": {
          "language": "fsharp"
        },
        "polyglot_notebook": {
          "kernelName": "fsharp"
        },
        "vscode": {
          "languageId": "polyglot-notebook"
        }
      },
      "outputs": [],
      "source": [
        "type FoodProduct =\n",
        "    | Chips\n",
        "    | Chocolate\n",
        "    | Candy \n",
        "\n",
        "type BrandedFood =\n",
        "    | Chips of string \n",
        "    | Chocolate of string \n",
        "    | Candy of string     \n",
        "\n",
        "type FoodMachineItem =\n",
        "    {\n",
        "        Brand: BrandedFood\n",
        "        ProductType: FoodProduct \n",
        "        Price: float \n",
        "        Size: SlotSize\n",
        "    }"
      ]
    },
    {
      "cell_type": "markdown",
      "metadata": {},
      "source": [
        "### Maquina de café\n",
        "\n",
        "Nuestro cliente de máquinas expendedoras quiere agregar una máquina de café justo al lado de la máquina expendedora de alimentos y quiere que preparemos el software para administrarla. Como conversación de primera ronda, nos han informado que la cafetera servirá café y té negro. A ambos se les puede agregar azúcar y crema. También tendrá chocolate y capuchino, con la única opción de agregar azúcar. Finalmente, también servirá un saludable té verde o blanco que se puede cubrir solo con leche. Comience a modelar la máquina de café introduciendo los tipos para describir todas estas bebidas.\n"
      ]
    },
    {
      "cell_type": "code",
      "execution_count": 7,
      "metadata": {
        "dotnet_interactive": {
          "language": "fsharp"
        },
        "polyglot_notebook": {
          "kernelName": "fsharp"
        },
        "vscode": {
          "languageId": "polyglot-notebook"
        }
      },
      "outputs": [],
      "source": [
        "type Opciones1 = \n",
        "    | Nada\n",
        "    | Azúcar\n",
        "    | Crema\n",
        "\n",
        "type Opciones2 = \n",
        "    | Nada\n",
        "    | Azúcar\n",
        "\n",
        "type Opciones3 = \n",
        "    | Nada\n",
        "    | Leche\n",
        "\n",
        "type Bebida = \n",
        "    | Café of Opciones1\n",
        "    | TéNegro of Opciones1\n",
        "    | Chocolate of Opciones2\n",
        "    | Capuchino of Opciones2\n",
        "    | TéVerde of Opciones3\n",
        "    | TéBlanco of Opciones3\n",
        "\n",
        "let bebidaMia = Bebida.Chocolate Opciones2.Nada"
      ]
    },
    {
      "cell_type": "markdown",
      "metadata": {},
      "source": [
        "### Poker (o Truco)\n",
        "\n",
        "- Usando uniones discriminadas y/o records, modelar un mazo de cartas francesas (poker) o españolas (truco), sin comodines.\n",
        "- Cómo cambiaría el modelo anterior si se incluyen dos comodines por mazo?"
      ]
    },
    {
      "cell_type": "code",
      "execution_count": 15,
      "metadata": {
        "dotnet_interactive": {
          "language": "fsharp"
        },
        "polyglot_notebook": {
          "kernelName": "fsharp"
        },
        "vscode": {
          "languageId": "polyglot-notebook"
        }
      },
      "outputs": [
        {
          "data": {
            "text/html": [
              "<details open=\"open\" class=\"dni-treeview\"><summary><span class=\"dni-code-hint\"><code>{ Numero = Numero 1\\n  Palo = Espada }</code></span></summary><div><table><thead><tr></tr></thead><tbody><tr><td>Numero</td><td><details class=\"dni-treeview\"><summary><span class=\"dni-code-hint\"><code>Numero 1</code></span></summary><div><table><thead><tr></tr></thead><tbody><tr><td>Item</td><td><div class=\"dni-plaintext\"><pre>1</pre></div></td></tr></tbody></table></div></details></td></tr><tr><td>Palo</td><td><details class=\"dni-treeview\"><summary><span class=\"dni-code-hint\"><code>Espada</code></span></summary><div><table><thead><tr></tr></thead><tbody></tbody></table></div></details></td></tr></tbody></table></div></details><style>\r\n",
              ".dni-code-hint {\r\n",
              "    font-style: italic;\r\n",
              "    overflow: hidden;\r\n",
              "    white-space: nowrap;\r\n",
              "}\r\n",
              ".dni-treeview {\r\n",
              "    white-space: nowrap;\r\n",
              "}\r\n",
              ".dni-treeview td {\r\n",
              "    vertical-align: top;\r\n",
              "    text-align: start;\r\n",
              "}\r\n",
              "details.dni-treeview {\r\n",
              "    padding-left: 1em;\r\n",
              "}\r\n",
              "table td {\r\n",
              "    text-align: start;\r\n",
              "}\r\n",
              "table tr { \r\n",
              "    vertical-align: top; \r\n",
              "    margin: 0em 0px;\r\n",
              "}\r\n",
              "table tr td pre \r\n",
              "{ \r\n",
              "    vertical-align: top !important; \r\n",
              "    margin: 0em 0px !important;\r\n",
              "} \r\n",
              "table th {\r\n",
              "    text-align: start;\r\n",
              "}\r\n",
              "</style>"
            ]
          },
          "metadata": {},
          "output_type": "display_data"
        }
      ],
      "source": [
        "type Palo = \n",
        "    | Espada\n",
        "    | Basto\n",
        "    | Oro\n",
        "    | Copa\n",
        "\n",
        "type Numero = \n",
        "    | Numero of int\n",
        "\n",
        "type Carta = {\n",
        "    Numero : Numero\n",
        "    Palo : Palo\n",
        "}\n",
        "    \n",
        "let miCarta = {\n",
        "    Numero = Numero 1\n",
        "    Palo = Palo.Espada\n",
        "}\n",
        "miCarta"
      ]
    }
  ],
  "metadata": {
    "language_info": {
      "name": "python"
    },
    "orig_nbformat": 4
  },
  "nbformat": 4,
  "nbformat_minor": 2
}
