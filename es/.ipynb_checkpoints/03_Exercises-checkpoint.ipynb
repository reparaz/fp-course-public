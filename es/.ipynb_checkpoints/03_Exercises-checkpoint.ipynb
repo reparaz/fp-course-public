{
  "cells": [
    {
      "cell_type": "markdown",
      "metadata": {},
      "source": [
        "## Ejercicios"
      ]
    },
    {
      "cell_type": "markdown",
      "metadata": {},
      "source": [
        "### El _Kata_ de los precios en el supermercado\n",
        "\n",
        "En general, la mayoría de los productos en el supermercado tienen un precio definido en pesos, por ejemplo,\n",
        "un paquete de galletas puede costar 123,75\\$. \n",
        "Pero también hay productos que se venden por peso, como un kilo de manzanas o naranjas.\n",
        "Además, se ven frecuentemente algunas promociones como:\n",
        "\n",
        "- Si lleva dos del mismo producto, 70% de descuento en la segunda unidad.\n",
        "- Una lata de atún puede estar de oferta, llevando tres , paga por dos.\n",
        "- O puede ser que por 1000 pesos uno pueda llevarse tres paquetes de yerba.\n",
        "\n",
        "Este es un kata para la ducha. No es necesario en este punto implementarlo como código, sino más bien\n",
        "pensar el modelo que uno usaría para describir, por ejemplo, cómo sumar los distintos precios \n",
        "de los productos en la caja. Algunas cosas para pensar\n",
        "\n",
        "- ¿Se puede tener valores de precio representados por números periódicos?\n",
        "- ¿Cómo manejar el redondeo?\n",
        "- ¿Cómo diseñar los tests para los casos de arriba?\n",
        "\n",
        "\n",
        "\n",
        "\n",
        "\n",
        "\n"
      ]
    },
    {
      "cell_type": "markdown",
      "metadata": {},
      "source": [
        "### FizzBuzz _Kata_ \n",
        "\n",
        "Este es un ejercicio clásico de programación. Use su lenguaje de programación habitual.\n",
        "\n",
        "- Escriba un programa que imprime los números del 1 al 100. Pero, cuando un número es múltiplo de tres, tiene que imprimir `Fizz` en lugar del número. Y para \n",
        "números múltiplos de cinco, tiene que imprimir `Buzz` en lugar del número. además, si el número \n",
        "es múltiplo de tres y cinco, debe imprimir `FizzBuzz`. \n",
        "\n",
        "Por ejemplo,\n",
        "\n",
        "- 9 es divisible por 3, con lo cual debe imprimirse `Fizz`.\n",
        "- 15 es divisible por 3 y por 5, con lo cual debe imprimirse `FizzBuzz`.\n",
        "- 25 es divisible por 5, con lo cual debe imprimirse `Buzz`.\n",
        "- 34 no es divisible ni por 3 ni por 5, con lo cual debe imprimirse 34.\n",
        "\n",
        "El resultado esperado hasta desde el 1 hasta el 15 es:\n",
        "```\n",
        "1\n",
        "2\n",
        "Fizz\n",
        "4\n",
        "Buzz\n",
        "Fizz\n",
        "7\n",
        "8\n",
        "Fizz\n",
        "Buzz\n",
        "11\n",
        "Fizz\n",
        "13\n",
        "14\n",
        "FizzBuzz\n",
        "```\n",
        "\n",
        "- Ahora considere que se quiere imprimir los números desde 1 hasta un número arbitrario cualquiera \n",
        "_N_ mayor que 1. \n",
        "\n",
        "- Siguiendo la idea anterior, agregue ahora el caso de reemplazar los múltiplos de siete en \n",
        "la lista por `Whizz`. Por supuesto, en caso en que el número sea múltiplo de 3 y 7, deberá imprimir\n",
        "`FizzWhizz`, mientras que en el caso en que sea múltiplo de 3, 5 y 7, debería decir `FizzBuzzWhizz`, etc.\n",
        "\n",
        "- ¿Cuál sería la mejor manera de implementar el código para que sea sencillo agregar un caso arbitrario\n",
        "de múltiplos en el futuro? \n"
      ]
    },
    {
      "cell_type": "markdown",
      "metadata": {},
      "source": [
        "### Funciones en la vida real \n",
        "\n",
        "- Escriba diez ejemplos de funciones en la vida real. \n",
        "\n",
        "- Escriba tres ejemplos de funciones que puedan componerse en la vida real. \n",
        "\n",
        "- Escriba tres ejemplos de la vida real donde se vea la aplicación parcial de funciones.\n"
      ]
    },
    {
      "cell_type": "markdown",
      "metadata": {},
      "source": [
        "### Una introducción a un _Kata_ \n",
        "\n",
        "Un _kata_ es un ejercicio de programación que puede resolverse en una o dos horas. En general\n",
        "se presenta como un ejercicio con varias partes, que deben ser resueltas en el orden indicado. A \n",
        "diferencia de un ejercicio _a secas_, hay algunas reglas para seguir.\n",
        "\n",
        "1. En cada parte del ejercicio, se busca mejorar la forma en que se implementó el código, \n",
        "respecto de la parte anterior.\n",
        "2. Es fundamental escribir _tests_. Esto es, pequeños programas para probar el código en\n",
        "casos conocidos. El programa final que resuelve el ejercicio debe ser capaz de _pasar_ todos\n",
        "los tests escritos.\n",
        "\n",
        "\n"
      ]
    }
  ],
  "metadata": {
    "language_info": {
      "name": "python"
    },
    "orig_nbformat": 4
  },
  "nbformat": 4,
  "nbformat_minor": 2
}
