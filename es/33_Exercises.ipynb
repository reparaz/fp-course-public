{
  "cells": [
    {
      "cell_type": "markdown",
      "metadata": {},
      "source": [
        "## Ejercicios"
      ]
    },
    {
      "cell_type": "markdown",
      "metadata": {},
      "source": [
        "### El _Kata_ del semáforo\n",
        "\n",
        "Considere un semáforo vehicular que tiene tres luces de colores Rojo, Verde y Amarillo. Estas luces se encienden durante un cierto número de segundos\n",
        "en un orden específico: 🔴 ➡ 🟡 ➡ 🟢 ➡ 🟡 ➡ 🔴. Además siempre hay una sola luz encendida (no es posible que haya varias luces\n",
        "encendidas al mismo tiempo).\n",
        "A modo de ejemplo, asuma que la luz roja permanece encendida durante 45 segundos, la luz amarilla durante 2 segundos, y la luz verde durante 66 segundos,\n",
        "y que inicialmente el semáforo se prende en rojo. \n",
        "En este ejercicio se propone escribir un conjunto de tipos y funciones que me permitan describir el estado del semáforo a un tiempo t dado en segundos\n",
        "(esto es, no interesa por el momento modelar la evolución real del sistema en el tiempo.)\n",
        "\n",
        "- Como primer paso, defina un tipo de dato adecuado para describir el semáforo, y analice la conveniencia de definir un tipo de dato para el tiempo.\n",
        "- Analice cuáles son las transiciones de los estados de las luces, y proponga la o las funciones que permitan cambiar de estado, y las modificaciones \n",
        "  necesarias (o no) al tipo de dato que describe el semáforo.\n",
        "- Escriba un tipo de dato que pueda resumir el estado del semáforo y las transiciones. \n",
        "- En algunos casos, típicamente por la noche en lugares de poco tránsito, el semáforo enciende la luz amarilla en forma intermitente. Agrege este nuevo caso al modelo del problema, y modifique las funciones adecuadamente.\n"
      ]
    },
    {
      "cell_type": "code",
      "execution_count": 1,
      "metadata": {
        "dotnet_interactive": {
          "language": "fsharp"
        },
        "polyglot_notebook": {
          "kernelName": "fsharp"
        },
        "vscode": {
          "languageId": "polyglot-notebook"
        }
      },
      "outputs": [],
      "source": [
        "type Color = \n",
        "    | Verde\n",
        "    | Amarillo\n",
        "    | Rojo\n",
        "\n",
        "\n",
        "type Semaforo = {\n",
        "    color : Color\n",
        "\n",
        "}\n",
        "\n",
        "let transRA (semaforo:Semaforo) = \n",
        "    match semaforo.color with \n",
        "    | Rojo -> Amarillo\n",
        "    | Amarillo -> Rojo\n",
        "    \n",
        "let transVA (semaforo:Semaforo) = \n",
        "    match semaforo.color with\n",
        "    | Verde -> Amarillo\n",
        "    | Amarillo -> Verde\n",
        "\n",
        "type Tiempo =\n",
        "    | Tiempo of int\n",
        "\n",
        "let modulo (t:Tiempo)=\n",
        "    t % 115\n",
        "\n",
        "let state (t:Tiempo) =\n",
        "    \n"
      ]
    },
    {
      "cell_type": "code",
      "execution_count": 3,
      "metadata": {
        "dotnet_interactive": {
          "language": "fsharp"
        },
        "polyglot_notebook": {
          "kernelName": "fsharp"
        },
        "vscode": {
          "languageId": "polyglot-notebook"
        }
      },
      "outputs": [
        {
          "data": {
            "text/html": [
              "<details open=\"open\" class=\"dni-treeview\"><summary><span class=\"dni-code-hint\"><code>Amarillo</code></span></summary><div><table><thead><tr></tr></thead><tbody></tbody></table></div></details><style>\r\n",
              ".dni-code-hint {\r\n",
              "    font-style: italic;\r\n",
              "    overflow: hidden;\r\n",
              "    white-space: nowrap;\r\n",
              "}\r\n",
              ".dni-treeview {\r\n",
              "    white-space: nowrap;\r\n",
              "}\r\n",
              ".dni-treeview td {\r\n",
              "    vertical-align: top;\r\n",
              "    text-align: start;\r\n",
              "}\r\n",
              "details.dni-treeview {\r\n",
              "    padding-left: 1em;\r\n",
              "}\r\n",
              "table td {\r\n",
              "    text-align: start;\r\n",
              "}\r\n",
              "table tr { \r\n",
              "    vertical-align: top; \r\n",
              "    margin: 0em 0px;\r\n",
              "}\r\n",
              "table tr td pre \r\n",
              "{ \r\n",
              "    vertical-align: top !important; \r\n",
              "    margin: 0em 0px !important;\r\n",
              "} \r\n",
              "table th {\r\n",
              "    text-align: start;\r\n",
              "}\r\n",
              "</style>"
            ]
          },
          "metadata": {},
          "output_type": "display_data"
        }
      ],
      "source": [
        "let p = {\n",
        "    color = Rojo\n",
        "    }\n",
        "\n",
        "transRA p"
      ]
    },
    {
      "cell_type": "markdown",
      "metadata": {},
      "source": [
        "### Números naturales\n",
        "\n",
        "Continuando con el ejemplo que vimos en clase, donde se propone un tipo de dato para describir a los números naturales al estilo de Peano como: \n",
        "\n",
        "```fsharp\n",
        "type Peano = \n",
        "    | Zero \n",
        "    | Succ of Peano\n",
        "```\n",
        "\n",
        "Escriba funciones que permitan sumar y multiplicar dos números naturales definidos como `Peano`. \n"
      ]
    },
    {
      "cell_type": "markdown",
      "metadata": {},
      "source": [
        "### Siguiendo con `MyList`\n",
        "\n",
        "Usando el tipo de dato que vimos en clase\n",
        "\n",
        "```fsharp \n",
        "type MyList =\n",
        "    | Empty\n",
        "    | Cons of int * MyList \n",
        "```\n",
        "\n",
        "- Escriba una función `length` que obtenga la longitud de la lista\n",
        "\n",
        "- Escriba una función `rev` que reordene la lista desde el último elemento hasta el primero\n",
        "  \n",
        "```fsharp\n",
        "let exampleList = Cons (1, Cons (2, Cons (3, Empty)))\n",
        "// el resultado de rev exampleList debe ser\n",
        "// Cons (3, Cons (2, Cons (1, Empty)))\n",
        "```  "
      ]
    }
  ],
  "metadata": {
    "language_info": {
      "name": "python"
    },
    "orig_nbformat": 4
  },
  "nbformat": 4,
  "nbformat_minor": 2
}
