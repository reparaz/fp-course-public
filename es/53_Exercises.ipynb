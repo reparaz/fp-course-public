{
  "cells": [
    {
      "cell_type": "markdown",
      "metadata": {},
      "source": []
    },
    {
      "cell_type": "markdown",
      "metadata": {},
      "source": [
        "## El _Kata_ del tenis\n",
        "\n",
        "El propósito de este _kata_ es modelar el puntaje durante un partido de tenis. El puntaje se cuenta de la siguiente \n",
        "forma:\n",
        "\n",
        "- Un juego lo gana el primer jugador que ha ganado al menos cuatro puntos en total y al menos dos puntos más que el oponente.\n",
        "- La puntuación actual de cada juego se describe de una manera peculiar del tenis: las puntuaciones de cero a tres puntos se describen como \"cero\" (_love_), \"15\", \"30\" y \"40\", respectivamente.\n",
        "- Si cada jugador ha anotado al menos tres puntos y los puntajes son iguales, el puntaje es \"iguales\" (_deuce_).\n",
        "- Si cada lado ha anotado al menos tres puntos y un jugador tiene un punto más que su oponente, el puntaje del juego se dice que es \"ventaja\" (_advantage_) para el jugador que va en cabeza.\n",
        "\n",
        "\n"
      ]
    },
    {
      "cell_type": "code",
      "execution_count": 26,
      "metadata": {
        "dotnet_interactive": {
          "language": "fsharp"
        },
        "polyglot_notebook": {
          "kernelName": "fsharp"
        },
        "vscode": {
          "languageId": "polyglot-notebook"
        }
      },
      "outputs": [
        {
          "name": "stdout",
          "output_type": "stream",
          "text": [
            "Ventaja2\n",
            "Ventaja1\n",
            "Opening (Quince, Cero)\n",
            "Deuce\n"
          ]
        }
      ],
      "source": [
        "type p1 = \n",
        "    | Cero\n",
        "    | Quince\n",
        "    | Treinta\n",
        "\n",
        "type Gamestate =\n",
        "    | Opening of p1*p1\n",
        "    | Cuarenta1 of p1\n",
        "    | Cuarenta2 of p1\n",
        "    | Deuce\n",
        "    | Ventaja1\n",
        "    | Ventaja2\n",
        "    | Gana1\n",
        "    | Gana2\n",
        "\n",
        "let puntoj1 (estado : Gamestate) : Gamestate = \n",
        "    match estado with \n",
        "    | Opening (a,b) ->\n",
        "        match ((a,b): Tuple<p1,p1>) with\n",
        "        | (Cero, b) -> Opening (Quince, b)\n",
        "        | (Quince, b) -> Opening (Treinta, b)\n",
        "        | (Treinta, b) -> Cuarenta1 b\n",
        "    | Cuarenta1 b -> Gana1\n",
        "    | Cuarenta2 b -> \n",
        "        match b with\n",
        "            | Cero -> Cuarenta2 Quince\n",
        "            | Quince -> Cuarenta2 Treinta\n",
        "            | Treinta -> Deuce\n",
        "    | Deuce -> Ventaja1\n",
        "    | Ventaja1 -> Gana1\n",
        "    | Ventaja2 -> Deuce\n",
        "    | _ -> Opening (Cero, Cero)\n",
        "\n",
        "let puntoj2 (estado : Gamestate) : Gamestate = \n",
        "    match estado with \n",
        "    | Opening (a,b) ->\n",
        "        match ((a,b): Tuple<p1,p1>) with\n",
        "        | (b, Cero) -> Opening (b, Quince)\n",
        "        | (b, Quince) -> Opening (b, Treinta)\n",
        "        | (b, Treinta) -> Cuarenta2 b\n",
        "    | Cuarenta2 b -> Gana1\n",
        "    | Cuarenta1 b -> \n",
        "        match b with\n",
        "            | Cero -> Cuarenta1 Quince\n",
        "            | Quince -> Cuarenta1 Treinta\n",
        "            | Treinta -> Deuce\n",
        "    | Deuce -> Ventaja2\n",
        "    | Ventaja1 -> Deuce\n",
        "    | Ventaja2 -> Gana2\n",
        "    | _ -> Opening (Cero, Cero)\n",
        "\n",
        "let punto = Gamestate.Deuce\n",
        "\n",
        "// Iguales punto j2\n",
        "let res = puntoj2 punto\n",
        "printfn \"%A\" res\n",
        "\n",
        "// Iguales punto j1\n",
        "let res2 = puntoj1 punto\n",
        "printfn \"%A\" res2\n",
        "\n",
        "// Partido empezado punto 1\n",
        "let punto1 = Gamestate.Opening (Cero,Cero)\n",
        "let res3 = puntoj1 punto1\n",
        "printfn \"%A\" res3\n",
        "\n",
        "// Iguales\n",
        "let punto3 = Gamestate.Cuarenta2 Treinta\n",
        "let res4 = puntoj1 punto3\n",
        "printfn \"%A\" res4\n"
      ]
    },
    {
      "cell_type": "code",
      "execution_count": 34,
      "metadata": {
        "dotnet_interactive": {
          "language": "fsharp"
        },
        "polyglot_notebook": {
          "kernelName": "fsharp"
        },
        "vscode": {
          "languageId": "polyglot-notebook"
        }
      },
      "outputs": [
        {
          "data": {
            "text/html": [
              "<details open=\"open\" class=\"dni-treeview\"><summary><span class=\"dni-code-hint\"><code>Opening (Quince, Quince)</code></span></summary><div><table><thead><tr></tr></thead><tbody><tr><td>Item1</td><td><details class=\"dni-treeview\"><summary><span class=\"dni-code-hint\"><code>Quince</code></span></summary><div><table><thead><tr></tr></thead><tbody></tbody></table></div></details></td></tr><tr><td>Item2</td><td><details class=\"dni-treeview\"><summary><span class=\"dni-code-hint\"><code>Quince</code></span></summary><div><table><thead><tr></tr></thead><tbody></tbody></table></div></details></td></tr></tbody></table></div></details><style>\r\n",
              ".dni-code-hint {\r\n",
              "    font-style: italic;\r\n",
              "    overflow: hidden;\r\n",
              "    white-space: nowrap;\r\n",
              "}\r\n",
              ".dni-treeview {\r\n",
              "    white-space: nowrap;\r\n",
              "}\r\n",
              ".dni-treeview td {\r\n",
              "    vertical-align: top;\r\n",
              "    text-align: start;\r\n",
              "}\r\n",
              "details.dni-treeview {\r\n",
              "    padding-left: 1em;\r\n",
              "}\r\n",
              "table td {\r\n",
              "    text-align: start;\r\n",
              "}\r\n",
              "table tr { \r\n",
              "    vertical-align: top; \r\n",
              "    margin: 0em 0px;\r\n",
              "}\r\n",
              "table tr td pre \r\n",
              "{ \r\n",
              "    vertical-align: top !important; \r\n",
              "    margin: 0em 0px !important;\r\n",
              "} \r\n",
              "table th {\r\n",
              "    text-align: start;\r\n",
              "}\r\n",
              "</style>"
            ]
          },
          "metadata": {},
          "output_type": "display_data"
        }
      ],
      "source": [
        "let patrido_init = Opening (Cero, Cero)\n",
        "\n",
        "patrido_init\n",
        "|> puntoj1\n",
        "|> puntoj2\n",
        "// |> puntoj1\n",
        "// |> puntoj1"
      ]
    }
  ],
  "metadata": {
    "kernelspec": {
      "display_name": ".NET (C#)",
      "language": "C#",
      "name": ".net-csharp"
    },
    "language_info": {
      "name": "python"
    },
    "orig_nbformat": 4,
    "polyglot_notebook": {
      "kernelInfo": {
        "defaultKernelName": "csharp",
        "items": [
          {
            "aliases": [],
            "name": "csharp"
          }
        ]
      }
    }
  },
  "nbformat": 4,
  "nbformat_minor": 2
}
